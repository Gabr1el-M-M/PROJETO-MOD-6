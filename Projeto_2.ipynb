{
  "cells": [
    {
      "cell_type": "markdown",
      "metadata": {
        "id": "RDK9WT46yuI4"
      },
      "source": [
        "#**Base das Análises**\n",
        "Só contém os códigos"
      ]
    },
    {
      "cell_type": "code",
      "execution_count": 25,
      "metadata": {
        "id": "6O2-BGgpyt0o"
      },
      "outputs": [],
      "source": [
        "import pandas as pd\n",
        "import matplotlib.pyplot as plt\n",
        "from matplotlib.ticker import FuncFormatter"
      ]
    },
    {
      "cell_type": "code",
      "execution_count": 26,
      "metadata": {
        "colab": {
          "base_uri": "https://localhost:8080/",
          "height": 373
        },
        "id": "7rJCRBS9y9jY",
        "outputId": "73c5ab7d-a19f-4479-803d-e4ccf4db5439"
      },
      "outputs": [],
      "source": [
        "#Carregando arquivos que serão explorados\n",
        "df_covid_2020 = pd.read_csv(\"cases-brazil-cities-time_2020.csv\")\n",
        "df_covid_2021 = pd.read_csv(\"cases-brazil-cities-time_2021.csv\")\n",
        "df_covid_2022 = pd.read_csv(\"cases-brazil-cities-time_2022.csv\")\n",
        "df_covid_2023 = pd.read_csv(\"cases-brazil-cities-time_2023.csv\")"
      ]
    },
    {
      "cell_type": "code",
      "execution_count": 28,
      "metadata": {
        "id": "CGtC9yGpzDCi"
      },
      "outputs": [
        {
          "name": "stdout",
          "output_type": "stream",
          "text": [
            "epi_week                           0\n",
            "date                               0\n",
            "state                              0\n",
            "city                               0\n",
            "ibgeID                             0\n",
            "newDeaths                          0\n",
            "deaths                             0\n",
            "newCases                           0\n",
            "totalCases                         0\n",
            "deaths_per_100k_inhabitants        0\n",
            "totalCases_per_100k_inhabitants    0\n",
            "deaths_by_totalCases               0\n",
            "dtype: int64\n",
            "epi_week                           0\n",
            "date                               0\n",
            "state                              0\n",
            "city                               0\n",
            "ibgeID                             0\n",
            "newDeaths                          0\n",
            "deaths                             0\n",
            "newCases                           0\n",
            "totalCases                         0\n",
            "deaths_per_100k_inhabitants        0\n",
            "totalCases_per_100k_inhabitants    0\n",
            "deaths_by_totalCases               0\n",
            "dtype: int64\n",
            "epi_week                           0\n",
            "date                               0\n",
            "state                              0\n",
            "city                               0\n",
            "ibgeID                             0\n",
            "newDeaths                          0\n",
            "deaths                             0\n",
            "newCases                           0\n",
            "totalCases                         0\n",
            "deaths_per_100k_inhabitants        0\n",
            "totalCases_per_100k_inhabitants    0\n",
            "deaths_by_totalCases               0\n",
            "dtype: int64\n",
            "epi_week                           0\n",
            "date                               0\n",
            "state                              0\n",
            "city                               0\n",
            "ibgeID                             0\n",
            "newDeaths                          0\n",
            "deaths                             0\n",
            "newCases                           0\n",
            "totalCases                         0\n",
            "deaths_per_100k_inhabitants        0\n",
            "totalCases_per_100k_inhabitants    0\n",
            "deaths_by_totalCases               0\n",
            "dtype: int64\n"
          ]
        }
      ],
      "source": [
        "#Verificando se há valores ausentes\n",
        "print(df_covid_2020.isnull().sum())\n",
        "print(df_covid_2021.isnull().sum())\n",
        "print(df_covid_2022.isnull().sum())\n",
        "print(df_covid_2023.isnull().sum())\n",
        "#Com base nos resultados, não há indicação de valores ausentes"
      ]
    },
    {
      "cell_type": "code",
      "execution_count": 29,
      "metadata": {
        "id": "iF83hAEhzIDZ"
      },
      "outputs": [
        {
          "name": "stdout",
          "output_type": "stream",
          "text": [
            "0          False\n",
            "1          False\n",
            "2          False\n",
            "3          False\n",
            "4          False\n",
            "           ...  \n",
            "1314375    False\n",
            "1314376    False\n",
            "1314377    False\n",
            "1314378    False\n",
            "1314379    False\n",
            "Length: 1314380, dtype: bool\n",
            "0          False\n",
            "1          False\n",
            "2          False\n",
            "3          False\n",
            "4          False\n",
            "           ...  \n",
            "2042728    False\n",
            "2042729    False\n",
            "2042730    False\n",
            "2042731    False\n",
            "2042732    False\n",
            "Length: 2042733, dtype: bool\n",
            "0          False\n",
            "1          False\n",
            "2          False\n",
            "3          False\n",
            "4          False\n",
            "           ...  \n",
            "2042900    False\n",
            "2042901    False\n",
            "2042902    False\n",
            "2042903    False\n",
            "2042904    False\n",
            "Length: 2042905, dtype: bool\n",
            "0         False\n",
            "1         False\n",
            "2         False\n",
            "3         False\n",
            "4         False\n",
            "          ...  \n",
            "430964    False\n",
            "430965    False\n",
            "430966    False\n",
            "430967    False\n",
            "430968    False\n",
            "Length: 430969, dtype: bool\n"
          ]
        }
      ],
      "source": [
        "#Verificando se há dados duplicados\n",
        "print(df_covid_2020.duplicated())\n",
        "print(df_covid_2021.duplicated())\n",
        "print(df_covid_2022.duplicated())\n",
        "print(df_covid_2023.duplicated())\n",
        "#Com base nos resultados, não há dados duplicados"
      ]
    },
    {
      "cell_type": "code",
      "execution_count": null,
      "metadata": {
        "colab": {
          "base_uri": "https://localhost:8080/"
        },
        "id": "NZELT-JwzL0-",
        "outputId": "63d09cbf-2dd8-41e7-8693-e4e841d72d9a"
      },
      "outputs": [],
      "source": [
        "#Limpeza\n",
        "#2020\n",
        "df_limpo_2020 = df_covid_2020[(df_covid_2020['state'] != 'TOTAL') & (df_covid_2020['city'] != 'TOTAL')]\n",
        "df_covid19_2020 = df_limpo_2020.drop(columns=['ibgeID'])\n",
        "\n",
        "#2021\n",
        "df_limpo_2021 = df_covid_2021[(df_covid_2021['state'] != 'TOTAL') & (df_covid_2021['city'] != 'TOTAL')]\n",
        "df_covid19_2021 = df_limpo_2021.drop(columns=['ibgeID'])\n",
        "\n",
        "#2022\n",
        "df_limpo_2022 = df_covid_2022[(df_covid_2022['state'] != 'TOTAL') & (df_covid_2022['city'] != 'TOTAL')]\n",
        "df_covid19_2022 = df_limpo_2022.drop(columns=['ibgeID'])\n",
        "\n",
        "#2023\n",
        "df_limpo_2023 = df_covid_2023[(df_covid_2023['state'] != 'TOTAL') & (df_covid_2020['city'] != 'TOTAL')]\n",
        "df_covid19_2023 = df_limpo_2023.drop(columns=['ibgeID'])"
      ]
    },
    {
      "cell_type": "code",
      "execution_count": 30,
      "metadata": {
        "colab": {
          "base_uri": "https://localhost:8080/"
        },
        "id": "OmH9X1FV0O2H",
        "outputId": "8b4f5a5d-b762-43ec-dbbc-062d9faadba0"
      },
      "outputs": [
        {
          "name": "stdout",
          "output_type": "stream",
          "text": [
            "O total de casos em 2020 foram de: 7681725\n",
            "O total de casos em 2021 foram de: 14608553\n",
            "O total de casos em 2022 foram de: 14042646\n",
            "O total de casos em 2023 foram de: 754127\n"
          ]
        }
      ],
      "source": [
        "#Total de casos\n",
        "#2020\n",
        "total_cases_2020 = df_covid19_2020['newCases'].sum()\n",
        "print(\"O total de casos em 2020 foram de:\", total_cases_2020)\n",
        "\n",
        "#2021\n",
        "total_cases_2021 = df_covid19_2021['newCases'].sum()\n",
        "print(\"O total de casos em 2021 foram de:\", total_cases_2021)\n",
        "\n",
        "#2022\n",
        "total_cases_2022 = df_covid19_2022['newCases'].sum()\n",
        "print(\"O total de casos em 2022 foram de:\", total_cases_2022)\n",
        "\n",
        "#2023\n",
        "total_cases_2023 = df_covid19_2023['newCases'].sum()\n",
        "print(\"O total de casos em 2023 foram de:\", total_cases_2023)"
      ]
    },
    {
      "cell_type": "code",
      "execution_count": null,
      "metadata": {
        "id": "QyEUj-AQ0ILj"
      },
      "outputs": [],
      "source": [
        "#Gráfico do total de casos\n",
        "import numpy as np\n",
        "def formatar_milhoes(x, pos):\n",
        "    return '{:.1f}M'.format(x * 1e-6)\n",
        "\n",
        "anos = [2020, 2021, 2022, 2023]\n",
        "total_cases = [total_cases_2020, total_cases_2021, total_cases_2022, total_cases_2023]\n",
        "\n",
        "coeficientes = np.polyfit(anos, total_cases, 1)\n",
        "regressao = np.poly1d(coeficientes)\n",
        "\n",
        "plt.figure(figsize=(10, 6))\n",
        "plt.bar(anos, total_cases, color='skyblue', label='Total de casos')\n",
        "\n",
        "plt.plot(anos, regressao(anos), color='red', linestyle='--', label='Regressão')\n",
        "\n",
        "plt.gca().yaxis.set_major_formatter(FuncFormatter(formatar_milhoes))\n",
        "\n",
        "plt.xticks(anos)\n",
        "\n",
        "plt.xlabel('Ano')\n",
        "plt.ylabel('Total de casos')\n",
        "plt.title('Total de casos de COVID-19 por ano')\n",
        "\n",
        "plt.show()"
      ]
    },
    {
      "cell_type": "code",
      "execution_count": null,
      "metadata": {
        "id": "-wdQTmGE1azf"
      },
      "outputs": [],
      "source": [
        "#Média\n",
        "#2020\n",
        "media_2020 = df_covid19_2020['newCases'].mean()\n",
        "media_formatada_2020 = '{:.2f}'.format(media_2020)\n",
        "print(\"A média de casos por dia no ano de 2020 foi de:\", media_formatada_2020)\n",
        "\n",
        "#2021\n",
        "media_2021 = df_covid19_2021['newCases'].mean()\n",
        "media_formatada_2021 = '{:.2f}'.format(media_2021)\n",
        "print(\"A média de casos por dia no ano de 2021 foi de:\", media_formatada_2021)\n",
        "\n",
        "#2022\n",
        "media_2022 = df_covid19_2022['newCases'].mean()\n",
        "media_formatada_2022 = '{:.2f}'.format(media_2022)\n",
        "print(\"A média de casos por dia no ano de 2020 foi de:\", media_formatada_2022)\n",
        "\n",
        "#2023\n",
        "media_2023 = df_covid19_2023['newCases'].mean()\n",
        "media_formatada_2023 = '{:.2f}'.format(media_2023)\n",
        "print(\"A média de casos por dia no ano de 2020 foi de:\", media_formatada_2023)"
      ]
    },
    {
      "cell_type": "code",
      "execution_count": null,
      "metadata": {
        "id": "P1G4c2166ME5"
      },
      "outputs": [],
      "source": [
        "#Gráfico da Média\n",
        "anos = [2020, 2021, 2022, 2023]\n",
        "medias = [media_2020, media_2021, media_2022, media_2023]\n",
        "\n",
        "media_movel = np.convolve(medias, np.ones(3)/3, mode='valid')\n",
        "anos_media_movel = anos[1:-1]\n",
        "\n",
        "plt.figure(figsize=(10, 6))\n",
        "plt.plot(anos_media_movel, media_movel, marker='o', linestyle='-', label='Média Móvel (janela=3)')\n",
        "plt.plot(anos, medias, marker='o', linestyle='-', label='Dados Originais')\n",
        "\n",
        "plt.xlabel('Ano')\n",
        "plt.ylabel('Média de casos por dia')\n",
        "plt.title('Tendência Temporal da Média de Casos por Dia')\n",
        "plt.grid(True)\n",
        "plt.show()"
      ]
    },
    {
      "cell_type": "code",
      "execution_count": null,
      "metadata": {
        "colab": {
          "base_uri": "https://localhost:8080/"
        },
        "id": "2-SDpYGX-Ab-",
        "outputId": "08be5ee7-fc73-44da-ec96-2669ef36689f"
      },
      "outputs": [],
      "source": [
        "#Variância\n",
        "#2020\n",
        "variancia_2020 = df_covid19_2020['newCases'].var()\n",
        "variancia_formatada_2020 = '{:.2f}'.format(variancia_2020)\n",
        "print(\"A variância do ano de 2020 foi de:\", variancia_formatada_2020)\n",
        "\n",
        "#2021\n",
        "variancia_2021 = df_covid19_2021['newCases'].var()\n",
        "variancia_formatada_2021 = '{:.2f}'.format(variancia_2021)\n",
        "print(\"A variância do ano de 2021 foi de:\", variancia_formatada_2021)\n",
        "\n",
        "#2022\n",
        "variancia_2022 = df_covid19_2022['newCases'].var()\n",
        "variancia_formatada_2022 = '{:.2f}'.format(variancia_2022)\n",
        "print(\"A variância do ano de 2022 foi de:\", variancia_formatada_2022)\n",
        "\n",
        "#2023\n",
        "variancia_2023 = df_covid19_2023['newCases'].var()\n",
        "variancia_formatada_2023 = '{:.2f}'.format(variancia_2023)\n",
        "print(\"A variância do ano de 2020 foi de:\", variancia_formatada_2023)"
      ]
    },
    {
      "cell_type": "code",
      "execution_count": null,
      "metadata": {
        "colab": {
          "base_uri": "https://localhost:8080/",
          "height": 565
        },
        "id": "WQzV0pPXI9bs",
        "outputId": "36c20e67-0aad-4a9f-ea3c-ee02523746bf"
      },
      "outputs": [],
      "source": [
        "anos = ['2020', '2021', '2022', '2023']\n",
        "variancias = [variancia_2020/10, variancia_2021/10, variancia_2022/10, variancia_2023/10]\n",
        "\n",
        "plt.figure(figsize=(10, 6))\n",
        "plt.plot(anos, variancias, marker='o', linestyle='-', color='skyblue')\n",
        "\n",
        "plt.xlabel('Ano')\n",
        "plt.ylabel('Variância')\n",
        "plt.title('Variância dos Casos de COVID-19 por Ano')\n",
        "plt.grid(True)\n",
        "plt.show()"
      ]
    },
    {
      "cell_type": "code",
      "execution_count": 31,
      "metadata": {
        "colab": {
          "base_uri": "https://localhost:8080/"
        },
        "id": "J3DVssf0LN0f",
        "outputId": "01f66f3d-7c83-41da-b121-9d9395fb2e64"
      },
      "outputs": [
        {
          "name": "stdout",
          "output_type": "stream",
          "text": [
            "O desvio padrão do ano de 2020 foi: 471.20\n",
            "O desvio padrão do ano de 2021 foi: 675.41\n",
            "O desvio padrão do ano de 2022 foi: 819.79\n",
            "O desvio padrão do ano de 2023 foi: 1001.19\n"
          ]
        }
      ],
      "source": [
        "#Desvio Padrão\n",
        "#2020\n",
        "desvio_padrao_2020 = df_covid_2020['newCases'].std()\n",
        "desvio_formatado_2020 = '{:.2f}'.format(desvio_padrao_2020)\n",
        "print(\"O desvio padrão do ano de 2020 foi:\", desvio_formatado_2020)\n",
        "\n",
        "#2021\n",
        "desvio_padrao_2021 = df_covid_2021['newCases'].std()\n",
        "desvio_formatado_2021 = '{:.2f}'.format(desvio_padrao_2021)\n",
        "print(\"O desvio padrão do ano de 2021 foi:\", desvio_formatado_2021)\n",
        "\n",
        "#2022\n",
        "desvio_padrao_2022 = df_covid_2022['newCases'].std()\n",
        "desvio_formatado_2022 = '{:.2f}'.format(desvio_padrao_2022)\n",
        "print(\"O desvio padrão do ano de 2022 foi:\", desvio_formatado_2022)\n",
        "\n",
        "#2023\n",
        "desvio_padrao_2023 = df_covid_2023['newCases'].std()\n",
        "desvio_formatado_2023 = '{:.2f}'.format(desvio_padrao_2023)\n",
        "print(\"O desvio padrão do ano de 2023 foi:\", desvio_formatado_2023)"
      ]
    },
    {
      "cell_type": "code",
      "execution_count": null,
      "metadata": {
        "id": "mK8cSPAkMiEi"
      },
      "outputs": [],
      "source": [
        "desvios_padrao = [desvio_padrao_2020, desvio_padrao_2021, desvio_padrao_2022, desvio_padrao_2023]\n",
        "anos = ['2020', '2021', '2022', '2023']\n",
        "\n",
        "plt.figure(figsize=(10, 6))\n",
        "plt.bar(anos, desvios_padrao, color='skyblue', edgecolor='black', alpha=0.7)\n",
        "\n",
        "plt.xlabel('Ano')\n",
        "plt.ylabel('Desvio Padrão')\n",
        "plt.title('Desvio Padrão dos Casos de COVID-19 por Ano')\n",
        "\n",
        "plt.show()"
      ]
    },
    {
      "cell_type": "code",
      "execution_count": null,
      "metadata": {
        "id": "pISEH2OhRJ5X"
      },
      "outputs": [],
      "source": [
        "#Estados\n",
        "#2020\n",
        "soma_por_estado_2020 = df_covid19_2020.groupby('state')['newCases'].sum()\n",
        "print(soma_por_estado_2020)\n",
        "\n",
        "#2021\n",
        "soma_por_estado_2021 = df_covid19_2021.groupby('state')['newCases'].sum()\n",
        "print(soma_por_estado_2021)\n",
        "\n",
        "#2022\n",
        "soma_por_estado_2022 = df_covid19_2022.groupby('state')['newCases'].sum()\n",
        "print(soma_por_estado_2022)\n",
        "\n",
        "#2023\n",
        "soma_por_estado_2023 = df_covid19_2023.groupby('state')['newCases'].sum()\n",
        "print(soma_por_estado_2023)"
      ]
    },
    {
      "cell_type": "code",
      "execution_count": null,
      "metadata": {
        "id": "IQGJsmO6Svzp"
      },
      "outputs": [],
      "source": [
        "#Gráfico 2020\n",
        "soma_por_estado_2020 = df_covid19_2020.groupby('state')['newCases'].sum()\n",
        "\n",
        "plt.figure(figsize=(15, 9))\n",
        "ax = soma_por_estado_2020.plot(kind='bar', color='skyblue')\n",
        "plt.xlabel('Estado')\n",
        "plt.ylabel('Número de casos')\n",
        "plt.title('Número de casos de COVID-19 por estado em 2020')\n",
        "plt.grid(axis='y')\n",
        "\n",
        "ax.set_xticklabels(ax.get_xticklabels(), rotation=45, ha='right')\n",
        "\n",
        "plt.show()"
      ]
    },
    {
      "cell_type": "code",
      "execution_count": null,
      "metadata": {
        "id": "HEtwVP8dV-Qe"
      },
      "outputs": [],
      "source": [
        "#Gráfico 2021\n",
        "soma_por_estado_2021 = df_covid19_2021.groupby('state')['newCases'].sum()\n",
        "\n",
        "plt.figure(figsize=(15, 9))\n",
        "ax = soma_por_estado_2021.plot(kind='bar', color='skyblue')\n",
        "plt.xlabel('Estado')\n",
        "plt.ylabel('Número de casos')\n",
        "plt.title('Número de casos de COVID-19 por estado em 2021')\n",
        "plt.grid(axis='y')\n",
        "\n",
        "ax.set_xticklabels(ax.get_xticklabels(), rotation=45, ha='right')\n",
        "\n",
        "plt.show()"
      ]
    },
    {
      "cell_type": "code",
      "execution_count": null,
      "metadata": {
        "id": "Jy-bJPQJWfCI"
      },
      "outputs": [],
      "source": [
        "#Gráfico 2022\n",
        "soma_por_estado_2022 = df_covid19_2022.groupby('state')['newCases'].sum()\n",
        "\n",
        "plt.figure(figsize=(15, 9))\n",
        "ax = soma_por_estado_2022.plot(kind='bar', color='skyblue')\n",
        "plt.xlabel('Estado')\n",
        "plt.ylabel('Número de casos')\n",
        "plt.title('Número de casos de COVID-19 por estado em 2022')\n",
        "plt.grid(axis='y')\n",
        "\n",
        "ax.set_xticklabels(ax.get_xticklabels(), rotation=45, ha='right')\n",
        "\n",
        "plt.show()"
      ]
    },
    {
      "cell_type": "code",
      "execution_count": null,
      "metadata": {
        "id": "8jP4goQkWrAI"
      },
      "outputs": [],
      "source": [
        "#Gráfico 2023\n",
        "soma_por_estado_2023 = df_covid19_2023.groupby('state')['newCases'].sum() / 10\n",
        "\n",
        "plt.figure(figsize=(15, 9))\n",
        "ax = soma_por_estado_2023.plot(kind='bar', color='skyblue')\n",
        "plt.xlabel('Estado')\n",
        "plt.ylabel('Número de casos')\n",
        "plt.title('Número de casos de COVID-19 por estado em 2023')\n",
        "plt.grid(axis='y')\n",
        "\n",
        "ax.set_xticklabels(ax.get_xticklabels(), rotation=45, ha='right')\n",
        "\n",
        "plt.show()\n"
      ]
    },
    {
      "cell_type": "code",
      "execution_count": null,
      "metadata": {},
      "outputs": [],
      "source": [
        "#Head\n",
        "print(df_covid_2020.head())"
      ]
    },
    {
      "cell_type": "code",
      "execution_count": null,
      "metadata": {
        "id": "hun1lsFuZwfF"
      },
      "outputs": [],
      "source": []
    }
  ],
  "metadata": {
    "colab": {
      "provenance": []
    },
    "kernelspec": {
      "display_name": "Python 3",
      "name": "python3"
    },
    "language_info": {
      "codemirror_mode": {
        "name": "ipython",
        "version": 3
      },
      "file_extension": ".py",
      "mimetype": "text/x-python",
      "name": "python",
      "nbconvert_exporter": "python",
      "pygments_lexer": "ipython3",
      "version": "3.10.2"
    }
  },
  "nbformat": 4,
  "nbformat_minor": 0
}
